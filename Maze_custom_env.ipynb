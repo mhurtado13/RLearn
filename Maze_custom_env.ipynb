{
 "cells": [
  {
   "cell_type": "code",
   "execution_count": 2,
   "metadata": {},
   "outputs": [],
   "source": [
    "import gymnasium as gym\n",
    "import pygame\n",
    "from MazeGame import MazeGameEnv"
   ]
  },
  {
   "cell_type": "code",
   "execution_count": 3,
   "metadata": {},
   "outputs": [],
   "source": [
    "#Register environment\n",
    "gym.register(\n",
    "    id = \"MazeGameEnv-v0\",\n",
    "    entry_point=\"MazeGame:MazeGameEnv\",\n",
    "    kwargs={'maze':None}\n",
    ")\n"
   ]
  },
  {
   "cell_type": "code",
   "execution_count": null,
   "metadata": {},
   "outputs": [],
   "source": [
    "maze = [\n",
    "    ['S', '', '.','.'],\n",
    "    ['.', '#','.','#'],\n",
    "    ['.','.','.','.'],\n",
    "    ['#','.','#','G'],\n",
    "]\n",
    "\n",
    "env = gym.make('MazeGameEnv-v0', maze = maze)\n",
    "env.reset()\n",
    "print(env.action_space.sample())"
   ]
  },
  {
   "cell_type": "code",
   "execution_count": null,
   "metadata": {},
   "outputs": [],
   "source": [
    "maze = [\n",
    "    ['S', '', '.','.'],\n",
    "    ['.', '#','.','#'],\n",
    "    ['.','.','.','.'],\n",
    "    ['#','.','#','G'],\n",
    "]\n",
    "\n",
    "# Test custom environment \n",
    "env = gym.make('MazeGameEnv-v0', maze = maze)\n",
    "obs = env.reset()\n",
    "env.render()\n",
    "\n",
    "done = False\n",
    "while not done:\n",
    "    pygame.event.get()\n",
    "    action = env.action_space.sample() #Random action \n",
    "    obs, reward, done, _, _ = env.step(action)\n",
    "    env.render()\n",
    "    print('Reward: ', reward)\n",
    "    print('Done: ', done)\n",
    "\n",
    "    pygame.time.wait(200)\n"
   ]
  }
 ],
 "metadata": {
  "kernelspec": {
   "display_name": "Python 3",
   "language": "python",
   "name": "python3"
  },
  "language_info": {
   "codemirror_mode": {
    "name": "ipython",
    "version": 3
   },
   "file_extension": ".py",
   "mimetype": "text/x-python",
   "name": "python",
   "nbconvert_exporter": "python",
   "pygments_lexer": "ipython3",
   "version": "3.11.5"
  }
 },
 "nbformat": 4,
 "nbformat_minor": 2
}
